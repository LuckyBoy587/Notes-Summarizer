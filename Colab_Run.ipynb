{
  "cells": [
    {
      "cell_type": "markdown",
      "id": "6988ea33",
      "metadata": {
        "id": "6988ea33"
      },
      "source": [
        "<a href=\"https://colab.research.google.com/github/LuckyBoy587/Notes-Summarizer/blob/master/Colab_Run.ipynb\" target=\"_parent\"><img src=\"https://colab.research.google.com/assets/colab-badge.svg\" alt=\"Open In Colab\"/></a>\n",
        "\n",
        "# Notes Summarizer on Colab\n",
        "\n",
        "This notebook allows you to easily run the Notes Summarizer on Google Colab. It will clone the latest code from GitHub, install dependencies, and process a PDF."
      ]
    },
    {
      "cell_type": "code",
      "execution_count": null,
      "id": "99f1127a",
      "metadata": {
        "id": "99f1127a"
      },
      "outputs": [],
      "source": [
        "# Setup: Clone repository, install dependencies, and download NLTK data\n",
        "!git clone https://github.com/LuckyBoy587/Notes-Summarizer.git\n",
        "%cd Notes-Summarizer\n",
        "!pip install -r requirements.txt\n",
        "import nltk\n",
        "nltk.download('punkt')\n",
        "nltk.download('punkt_tab')"
      ]
    },
    {
      "cell_type": "code",
      "execution_count": null,
      "id": "e1e59759",
      "metadata": {
        "id": "e1e59759"
      },
      "outputs": [],
      "source": [
        "# Import modules\n",
        "from config import get_model_tokenizer_device, get_device\n",
        "from text_processing import split_into_topics\n",
        "from paraphrasing import paraphrase_chunks\n",
        "from pdf_extraction import extract_topics_from_pdf\n",
        "from google.colab import files\n",
        "import os\n",
        "import torch\n",
        "# Show device info so you know whether GPU fp16 is being used\n",
        "print('torch.cuda.is_available():', torch.cuda.is_available())\n",
        "print('device:', get_device())\n"
      ]
    },
    {
      "cell_type": "code",
      "execution_count": null,
      "id": "0bc39c9c",
      "metadata": {
        "id": "0bc39c9c"
      },
      "outputs": [],
      "source": [
        "def summarize_pdf(pdf_filename, paraphrase=True, paraphrase_kwargs=None):\n",
        "    # Process PDF: Extract topics, split, paraphrase, and save (use fast sampling for extraction)\n",
        "    # fast=True uses a small set of sampled pages to estimate font-size thresholds which speeds up large PDFs\n",
        "    if paraphrase_kwargs is None:\n",
        "        paraphrase_kwargs = {'batch_size': 16, 'num_beams': 1, 'max_length': 64, 'do_sample': True}\n",
        "    extracted_text = extract_topics_from_pdf(pdf_filename, fast=True, sample_pages=3)\n",
        "    topics = split_into_topics(extracted_text)\n",
        "\n",
        "    output_content = \"\"\n",
        "    for topic, chunks in topics.items():\n",
        "        if paraphrase:\n",
        "            bullets = paraphrase_chunks(chunks, **paraphrase_kwargs)\n",
        "        else:\n",
        "            bullets = chunks\n",
        "        output_content += f\"\\n## {topic}\\n\"\n",
        "        output_content += \"\\n\".join([f\"• {b}\" for b in bullets]) + \"\\n\"\n",
        "\n",
        "    output_filename = pdf_filename.replace('.pdf', '_paraphrased.txt')\n",
        "    with open(output_filename, 'w', encoding='utf-8') as f:\n",
        "        f.write(output_content)\n",
        "\n",
        "    print(f\"Output saved to {output_filename}\")\n",
        "    # Download the result\n",
        "    files.download(output_filename)\n"
      ]
    },
    {
      "cell_type": "code",
      "execution_count": null,
      "id": "f5662e7b",
      "metadata": {},
      "outputs": [],
      "source": [
        "# Upload PDF\n",
        "uploaded = files.upload()\n",
        "for pdf_filename in uploaded.keys():\n",
        "    # Run with paraphrasing using faster generation defaults\n",
        "    summarize_pdf(pdf_filename, paraphrase=True)\n",
        "    os.remove(pdf_filename)  # Clean up uploaded PDF file\n"
      ]
    }
  ],
  "metadata": {
    "colab": {
      "provenance": []
    },
    "kernelspec": {
      "display_name": "Python 3",
      "name": "python3"
    },
    "language_info": {
      "name": "python"
    }
  },
  "nbformat": 4,
  "nbformat_minor": 5
}
