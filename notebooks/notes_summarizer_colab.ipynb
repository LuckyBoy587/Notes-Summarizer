{
 "cells": [
  {
   "cell_type": "markdown",
   "id": "af0196cf",
   "metadata": {},
   "source": [
    "<a href=\"https://colab.research.google.com/github/LuckyBoy587/Notes-Summarizer/blob/master/notebooks/notes_summarizer_colab.ipynb\" target=\"_parent\"><img src=\"https://colab.research.google.com/assets/colab-badge.svg\" alt=\"Open In Colab\"/></a>"
   ]
  },
  {
   "cell_type": "markdown",
   "id": "5f2c9083",
   "metadata": {},
   "source": [
    "# Notes Summarizer (Colab)\n",
    "\n",
    "This notebook is intentionally minimal: it only installs dependencies, clones the repository, and calls the project's `main.py`. No helper functions or UI code are embedded here.\n",
    "\n",
    "Run the cells in order. After cloning, `main.py` will be invoked (it expects a PDF path argument; run it as shown or upload a file and adapt the command below)."
   ]
  },
  {
   "cell_type": "code",
   "execution_count": null,
   "id": "ea58dd3a",
   "metadata": {},
   "outputs": [],
   "source": [
    "# Install dependencies and clone the repository (quiet installs)\n",
    "!pip install -q -r requirements.txt || true\n",
    "!pip install -q PyMuPDF || true\n",
    "!git clone https://github.com/LuckyBoy587/Notes-Summarizer.git || true\n",
    "%cd Notes-Summarizer\n",
    "\n",
    "# Download NLTK punkt data used by text_processing.split_into_topics\n",
    "import nltk\n",
    "nltk.download('punkt')\n",
    "\n",
    "# Use Colab's file upload UI, call main.summarize_pdf on each uploaded file, then download results\n",
    "from google.colab import files\n",
    "import main\n",
    "uploaded = files.upload()\n",
    "for fname in uploaded.keys():\n",
    "    print('Processing', fname)\n",
    "    out = main.summarize_pdf(fname, paraphrase=True)\n",
    "    print('Generated', out)\n",
    "    try:\n",
    "        files.download(out)\n",
    "    except Exception as e:\n",
    "        print('Download failed:', e)"
   ]
  }
 ],
 "metadata": {
  "language_info": {
   "name": "python"
  }
 },
 "nbformat": 4,
 "nbformat_minor": 5
}
