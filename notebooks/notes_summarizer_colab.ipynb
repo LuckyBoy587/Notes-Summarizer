{
 "cells": [
  {
   "cell_type": "markdown",
   "id": "af0196cf",
   "metadata": {},
   "source": [
    "<a href=\"https://colab.research.google.com/github/LuckyBoy587/Notes-Summarizer/blob/master/notebooks/notes_summarizer_colab.ipynb\" target=\"_parent\"><img src=\"https://colab.research.google.com/assets/colab-badge.svg\" alt=\"Open In Colab\"/></a>"
   ]
  },
  {
   "cell_type": "markdown",
   "id": "5f2c9083",
   "metadata": {},
   "source": [
    "# Notes Summarizer (Colab)\n",
    "\n",
    "This notebook is intentionally minimal: it only installs dependencies, clones the repository, and calls the project's `main.py`. No helper functions or UI code are embedded here.\n",
    "\n",
    "Run the cells in order. After cloning, `main.py` will be invoked (it expects a PDF path argument; run it as shown or upload a file and adapt the command below)."
   ]
  },
  {
   "cell_type": "code",
   "execution_count": null,
   "id": "ea58dd3a",
   "metadata": {},
   "outputs": [],
   "source": [
    "# Clone the repository and run main.py (this will print usage if no PDF path is provided)\n",
    "!git clone https://github.com/LuckyBoy587/Notes-Summarizer.git || true\n",
    "%cd Notes-Summarizer\n",
    "\n",
    "!pip install -r requirements.txt\n",
    "import nltk\n",
    "nltk.download('punkt')\n",
    "nltk.download('punkt_tab')  \n",
    "\n",
    "# Call main.py (it expects a path to a PDF). Without args it will print usage information.\n",
    "!python main.py"
   ]
  }
 ],
 "metadata": {
  "language_info": {
   "name": "python"
  }
 },
 "nbformat": 4,
 "nbformat_minor": 5
}
